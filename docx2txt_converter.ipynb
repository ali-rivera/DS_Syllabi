{
 "cells": [
  {
   "cell_type": "code",
   "execution_count": 4,
   "metadata": {},
   "outputs": [],
   "source": [
    "import docx2txt as dt\n",
    "import os"
   ]
  },
  {
   "cell_type": "code",
   "execution_count": 9,
   "metadata": {},
   "outputs": [],
   "source": [
    "## Path to .docx files\n",
    "path = 'c:\\\\Users\\\\wat6sv\\\\OneDrive - University of Virginia\\\\23_DataScientist\\\\DS Syllabi\\\\docx_files'\n",
    "\n",
    "os.chdir(path) # move into dir with .docx files"
   ]
  },
  {
   "cell_type": "code",
   "execution_count": 15,
   "metadata": {},
   "outputs": [],
   "source": [
    "\n",
    "## Get list of files names ending with .docx \n",
    "files = []\n",
    "for file in os.listdir(path):\n",
    "    if file.endswith('.docx'):\n",
    "        files.append(file)\n",
    "\n",
    "## path to directory files get saved to\n",
    "new_path = 'c:\\\\Users\\\\wat6sv\\\\OneDrive - University of Virginia\\\\23_DataScientist\\\\DS Syllabi\\\\txt_files'\n",
    "\n",
    "##  Loop through files\n",
    "for i in range(len(files)):\n",
    "    #get name w/o .docx to rename as .txt\n",
    "    name = files[i]\n",
    "    name = name[:-5] \n",
    "    text = docx2txt.process(files[i]) # grab text from file\n",
    "\n",
    "    ## save as new .txt file in new path\n",
    "    with open(new_path+\"\\\\\"+name+\".txt\", 'w') as f:\n",
    "        f.write(text)\n",
    "        f.close()\n",
    "    \n",
    "\n"
   ]
  },
  {
   "cell_type": "code",
   "execution_count": 12,
   "metadata": {},
   "outputs": [
    {
     "data": {
      "text/plain": [
       "'c:\\\\Users\\\\wat6sv\\\\OneDrive - University of Virginia\\\\23_DataScientist\\\\DS Syllabi\\\\txt_files\\\\ASU.txt'"
      ]
     },
     "execution_count": 12,
     "metadata": {},
     "output_type": "execute_result"
    }
   ],
   "source": [
    "name = \"ASU\"\n",
    "new_path+\"\\\\\"+name+\".txt\""
   ]
  },
  {
   "cell_type": "code",
   "execution_count": null,
   "metadata": {},
   "outputs": [],
   "source": []
  }
 ],
 "metadata": {
  "kernelspec": {
   "display_name": "base",
   "language": "python",
   "name": "python3"
  },
  "language_info": {
   "codemirror_mode": {
    "name": "ipython",
    "version": 3
   },
   "file_extension": ".py",
   "mimetype": "text/x-python",
   "name": "python",
   "nbconvert_exporter": "python",
   "pygments_lexer": "ipython3",
   "version": "3.11.4"
  },
  "orig_nbformat": 4
 },
 "nbformat": 4,
 "nbformat_minor": 2
}
