{
 "cells": [
  {
   "cell_type": "code",
   "execution_count": 19,
   "metadata": {},
   "outputs": [],
   "source": [
    "import pandas as pd\n",
    "import numpy as np\n",
    "import os\n",
    "import sklearn \n"
   ]
  },
  {
   "cell_type": "code",
   "execution_count": 20,
   "metadata": {},
   "outputs": [
    {
     "ename": "NameError",
     "evalue": "name 'walk' is not defined",
     "output_type": "error",
     "traceback": [
      "\u001b[1;31m---------------------------------------------------------------------------\u001b[0m",
      "\u001b[1;31mNameError\u001b[0m                                 Traceback (most recent call last)",
      "\u001b[1;32mc:\\Users\\wat6sv\\OneDrive - University of Virginia\\Documents\\DS Syllabi\\PyTxtMining.ipynb Cell 2\u001b[0m line \u001b[0;36m2\n\u001b[0;32m      <a href='vscode-notebook-cell:/c%3A/Users/wat6sv/OneDrive%20-%20University%20of%20Virginia/Documents/DS%20Syllabi/PyTxtMining.ipynb#W1sZmlsZQ%3D%3D?line=0'>1</a>\u001b[0m mypath \u001b[39m=\u001b[39m \u001b[39m\"\u001b[39m\u001b[39mc:\u001b[39m\u001b[39m\\\\\u001b[39;00m\u001b[39mUsers\u001b[39m\u001b[39m\\\\\u001b[39;00m\u001b[39mwat6sv\u001b[39m\u001b[39m\\\\\u001b[39;00m\u001b[39mOneDrive - University of Virginia\u001b[39m\u001b[39m\\\\\u001b[39;00m\u001b[39m23_DataScientist\u001b[39m\u001b[39m\\\\\u001b[39;00m\u001b[39mDS Syllabi\u001b[39m\u001b[39m\\\\\u001b[39;00m\u001b[39mtxt_files\u001b[39m\u001b[39m\"\u001b[39m\n\u001b[1;32m----> <a href='vscode-notebook-cell:/c%3A/Users/wat6sv/OneDrive%20-%20University%20of%20Virginia/Documents/DS%20Syllabi/PyTxtMining.ipynb#W1sZmlsZQ%3D%3D?line=1'>2</a>\u001b[0m files \u001b[39m=\u001b[39m \u001b[39mnext\u001b[39m(walk(mypath), (\u001b[39mNone\u001b[39;00m, \u001b[39mNone\u001b[39;00m, []))[\u001b[39m2\u001b[39m]\n",
      "\u001b[1;31mNameError\u001b[0m: name 'walk' is not defined"
     ]
    }
   ],
   "source": [
    "mypath = \"c:\\\\Users\\\\wat6sv\\\\OneDrive - University of Virginia\\\\23_DataScientist\\\\DS Syllabi\\\\txt_files\"\n",
    "files = next(walk(mypath), (None, None, []))[2]"
   ]
  },
  {
   "cell_type": "code",
   "execution_count": 66,
   "metadata": {},
   "outputs": [],
   "source": [
    "def get_names(file):\n",
    "    return file[:-4]\n",
    "\n",
    "[file for file in files if file is not None]\n",
    "\n",
    "syll_names = [get_names(file) for file in files]\n",
    "syll_names = [file for file in syll_names if file is not None]"
   ]
  },
  {
   "cell_type": "code",
   "execution_count": 93,
   "metadata": {},
   "outputs": [
    {
     "ename": "FileNotFoundError",
     "evalue": "[Errno 2] No such file or directory: 'C:\\\\Users\\\\wat6sv\\\\OneDrive-University of Virginia\\\\23_DataScientist\\\\DS Syllabi\\\\txt_files\\\\ASU.txt'",
     "output_type": "error",
     "traceback": [
      "\u001b[1;31m---------------------------------------------------------------------------\u001b[0m",
      "\u001b[1;31mFileNotFoundError\u001b[0m                         Traceback (most recent call last)",
      "\u001b[1;32mc:\\Users\\wat6sv\\OneDrive - University of Virginia\\23_DataScientist\\DS Syllabi\\PyTxtMining.ipynb Cell 4\u001b[0m line \u001b[0;36m5\n\u001b[0;32m      <a href='vscode-notebook-cell:/c%3A/Users/wat6sv/OneDrive%20-%20University%20of%20Virginia/23_DataScientist/DS%20Syllabi/PyTxtMining.ipynb#W4sZmlsZQ%3D%3D?line=2'>3</a>\u001b[0m \u001b[39mfor\u001b[39;00m file \u001b[39min\u001b[39;00m files:\n\u001b[0;32m      <a href='vscode-notebook-cell:/c%3A/Users/wat6sv/OneDrive%20-%20University%20of%20Virginia/23_DataScientist/DS%20Syllabi/PyTxtMining.ipynb#W4sZmlsZQ%3D%3D?line=3'>4</a>\u001b[0m     path \u001b[39m=\u001b[39m \u001b[39m\"\u001b[39m\u001b[39mC:\u001b[39m\u001b[39m\\\\\u001b[39;00m\u001b[39mUsers\u001b[39m\u001b[39m\\\\\u001b[39;00m\u001b[39mwat6sv\u001b[39m\u001b[39m\\\\\u001b[39;00m\u001b[39mOneDrive-University of Virginia\u001b[39m\u001b[39m\\\\\u001b[39;00m\u001b[39m23_DataScientist\u001b[39m\u001b[39m\\\\\u001b[39;00m\u001b[39mDS Syllabi\u001b[39m\u001b[39m\\\\\u001b[39;00m\u001b[39mtxt_files\u001b[39m\u001b[39m\"\u001b[39m\u001b[39m+\u001b[39m\u001b[39m\"\u001b[39m\u001b[39m\\\\\u001b[39;00m\u001b[39m\"\u001b[39m\u001b[39m+\u001b[39mfile\n\u001b[1;32m----> <a href='vscode-notebook-cell:/c%3A/Users/wat6sv/OneDrive%20-%20University%20of%20Virginia/23_DataScientist/DS%20Syllabi/PyTxtMining.ipynb#W4sZmlsZQ%3D%3D?line=4'>5</a>\u001b[0m     \u001b[39mwith\u001b[39;00m \u001b[39mopen\u001b[39;49m(path) \u001b[39mas\u001b[39;00m f:\n\u001b[0;32m      <a href='vscode-notebook-cell:/c%3A/Users/wat6sv/OneDrive%20-%20University%20of%20Virginia/23_DataScientist/DS%20Syllabi/PyTxtMining.ipynb#W4sZmlsZQ%3D%3D?line=5'>6</a>\u001b[0m         f\u001b[39m.\u001b[39mread()\n",
      "File \u001b[1;32mc:\\Users\\wat6sv\\AppData\\Local\\miniconda3\\Lib\\site-packages\\IPython\\core\\interactiveshell.py:284\u001b[0m, in \u001b[0;36m_modified_open\u001b[1;34m(file, *args, **kwargs)\u001b[0m\n\u001b[0;32m    277\u001b[0m \u001b[39mif\u001b[39;00m file \u001b[39min\u001b[39;00m {\u001b[39m0\u001b[39m, \u001b[39m1\u001b[39m, \u001b[39m2\u001b[39m}:\n\u001b[0;32m    278\u001b[0m     \u001b[39mraise\u001b[39;00m \u001b[39mValueError\u001b[39;00m(\n\u001b[0;32m    279\u001b[0m         \u001b[39mf\u001b[39m\u001b[39m\"\u001b[39m\u001b[39mIPython won\u001b[39m\u001b[39m'\u001b[39m\u001b[39mt let you open fd=\u001b[39m\u001b[39m{\u001b[39;00mfile\u001b[39m}\u001b[39;00m\u001b[39m by default \u001b[39m\u001b[39m\"\u001b[39m\n\u001b[0;32m    280\u001b[0m         \u001b[39m\"\u001b[39m\u001b[39mas it is likely to crash IPython. If you know what you are doing, \u001b[39m\u001b[39m\"\u001b[39m\n\u001b[0;32m    281\u001b[0m         \u001b[39m\"\u001b[39m\u001b[39myou can use builtins\u001b[39m\u001b[39m'\u001b[39m\u001b[39m open.\u001b[39m\u001b[39m\"\u001b[39m\n\u001b[0;32m    282\u001b[0m     )\n\u001b[1;32m--> 284\u001b[0m \u001b[39mreturn\u001b[39;00m io_open(file, \u001b[39m*\u001b[39;49margs, \u001b[39m*\u001b[39;49m\u001b[39m*\u001b[39;49mkwargs)\n",
      "\u001b[1;31mFileNotFoundError\u001b[0m: [Errno 2] No such file or directory: 'C:\\\\Users\\\\wat6sv\\\\OneDrive-University of Virginia\\\\23_DataScientist\\\\DS Syllabi\\\\txt_files\\\\ASU.txt'"
     ]
    }
   ],
   "source": [
    "corpus = pd.DataFrame({\"name\",\"text\"})\n",
    "\n",
    "for file in files:\n",
    "    path = \"C:\\\\Users\\\\wat6sv\\\\OneDrive-University of Virginia\\\\23_DataScientist\\\\DS Syllabi\\\\txt_files\"+\"\\\\\"+file\n",
    "    with open(path) as f:\n",
    "        f.read()\n",
    "\n",
    "\n",
    "\n"
   ]
  },
  {
   "cell_type": "code",
   "execution_count": 91,
   "metadata": {},
   "outputs": [],
   "source": [
    "f.close()"
   ]
  },
  {
   "cell_type": "code",
   "execution_count": 76,
   "metadata": {},
   "outputs": [],
   "source": [
    "f.close()"
   ]
  }
 ],
 "metadata": {
  "kernelspec": {
   "display_name": "base",
   "language": "python",
   "name": "python3"
  },
  "language_info": {
   "codemirror_mode": {
    "name": "ipython",
    "version": 3
   },
   "file_extension": ".py",
   "mimetype": "text/x-python",
   "name": "python",
   "nbconvert_exporter": "python",
   "pygments_lexer": "ipython3",
   "version": "3.11.4"
  },
  "orig_nbformat": 4
 },
 "nbformat": 4,
 "nbformat_minor": 2
}
